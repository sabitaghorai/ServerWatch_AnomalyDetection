{
 "cells": [
  {
   "cell_type": "markdown",
   "id": "6f8c5ffe",
   "metadata": {},
   "source": [
    "# Anomaly Detection"
   ]
  },
  {
   "cell_type": "markdown",
   "id": "c3081677",
   "metadata": {},
   "source": [
    "# # Outline\n",
    "- [ 1 - Packages ](#1)\n",
    "- [ 2 - Anomaly detection](#2)\n",
    "  - [ 2.1 Problem Statement](#2.1)\n",
    "  - [ 2.2  Dataset](#2.2)\n",
    "  - [ 2.3 Gaussian distribution](#2.3)\n",
    " "
   ]
  },
  {
   "cell_type": "markdown",
   "id": "bb3a4bec",
   "metadata": {},
   "source": [
    "## <a name=\"1\"></a>\n",
    "## 1 - Packages \n",
    "\n",
    "- [numpy](www.numpy.org) is the fundamental package for working with matrices in Python.\n",
    "- [matplotlib](http://matplotlib.org) is a famous library to plot graphs in Python."
   ]
  },
  {
   "cell_type": "code",
   "execution_count": 25,
   "id": "70555354",
   "metadata": {},
   "outputs": [],
   "source": [
    "import numpy as np\n",
    "import matplotlib.pyplot as plt\n",
    "import warnings\n",
    "\n",
    "%matplotlib inline"
   ]
  },
  {
   "cell_type": "markdown",
   "id": "76c88773",
   "metadata": {},
   "source": [
    "## <a name=\"2\"></a>\n",
    "## 2 - Anomaly detection\n",
    "\n",
    "<a name=\"2.1\"></a>\n",
    "### 2.1 Problem Statement\n",
    "The goal of this project is to develop an anomaly detection algorithm to detect anomalous behavior in server computers. The project will use a Gaussian model to identify anomalous examples in an unlabeled dataset of server behavior containing two features - throughput (mb/s) and latency (ms) of response of each server.\n",
    "\n",
    "The project aims to visualize the algorithm's workings on a 2D dataset by fitting a Gaussian distribution and identifying values with low probability that can be considered anomalies. The algorithm will then be applied to a larger dataset with multiple dimensions to identify anomalous behavior in server operations.\n",
    "\n",
    "Ultimately, the project's objective is to improve server monitoring and maintenance by detecting and addressing anomalous behavior that may indicate potential system failures or security breaches.\n",
    "\n",
    "<a name=\"2.2\"></a>\n",
    "### 2.2  Dataset\n",
    "\n",
    "\n",
    "- The `load_data()` function shown below loads the data into the variables `X_train`, `X_val` and `y_val` \n",
    "    - We will use `X_train` to fit a Gaussian distribution \n",
    "    - We will use `X_val` and `y_val` as a cross validation set to select a threshold and determine anomalous vs normal examples"
   ]
  },
  {
   "cell_type": "code",
   "execution_count": 26,
   "id": "dcdf228c",
   "metadata": {},
   "outputs": [],
   "source": [
    "def load_data():\n",
    "    X = np.load(\"X_train.npy\")\n",
    "    X_val = np.load(\"X_val.npy\")\n",
    "    y_val = np.load(\"y_val.npy\")\n",
    "    return X, X_val, y_val\n"
   ]
  },
  {
   "cell_type": "code",
   "execution_count": 27,
   "id": "68cb66e3",
   "metadata": {},
   "outputs": [],
   "source": [
    "# Load the dataset\n",
    "X_train, X_val, y_val = load_data()"
   ]
  },
  {
   "cell_type": "markdown",
   "id": "6b600c53",
   "metadata": {},
   "source": [
    "#### View the variables"
   ]
  },
  {
   "cell_type": "code",
   "execution_count": 28,
   "id": "0558c67c",
   "metadata": {},
   "outputs": [
    {
     "name": "stdout",
     "output_type": "stream",
     "text": [
      "The first 5 elements of X_train are:\n",
      " [[ 6.65311366e+00  1.36897016e+01  1.75528453e+01 -1.19334974e+01\n",
      "  -5.75640883e+00  1.54359213e+01 -1.21367520e+01  8.22412257e+00\n",
      "  -4.88402408e+00  5.34933534e+00  1.73513724e+01]\n",
      " [-5.63054206e+00 -1.89376673e+01  1.86446242e+01 -6.15582498e+00\n",
      "  -2.59888637e+01  1.54095532e+01 -1.65955163e+01  9.45465367e+00\n",
      "  -2.87717344e+00 -6.00942041e+00  1.92106361e+01]\n",
      " [ 9.72152507e+00 -9.98248898e+00  1.55714341e+01 -3.22242657e+01\n",
      "  -5.59579923e+00  2.43213827e+01  8.32773533e-01  1.07945546e+01\n",
      "   7.27574802e-01  1.03929750e+01  7.08599490e+00]\n",
      " [-4.63576572e+00 -1.07160396e+01  2.03565706e+01 -9.00209733e+00\n",
      "  -4.92056907e+00 -4.26195747e+00 -1.30582878e+00  9.49980333e-01\n",
      "  -8.63410656e+00  1.98445438e-01  6.77141253e-03]\n",
      " [-1.28410444e+01 -2.03883132e+01  9.49193648e+00 -7.03850017e+00\n",
      "  -9.92108683e+00 -3.71610505e+00 -9.38473043e+00 -2.32553355e+00\n",
      "  -1.35185624e+01  1.10070290e+01  1.40032103e+01]]\n"
     ]
    }
   ],
   "source": [
    "print(\"The first 5 elements of X_train are:\\n\", X_train[:5])  "
   ]
  },
  {
   "cell_type": "code",
   "execution_count": 29,
   "id": "fa7b8a38",
   "metadata": {},
   "outputs": [
    {
     "name": "stdout",
     "output_type": "stream",
     "text": [
      "The first 5 elements of X_val are\n",
      " [[ 18.27128267 -12.35926827   5.00096952   1.61147203   1.08859249\n",
      "   29.3144101   -8.31353105  36.4383382   -9.47667866 -25.92818273\n",
      "    7.10862793]\n",
      " [ -3.19306995 -19.70582077   6.52855559 -21.57085816   3.05055568\n",
      "   23.4775029   -1.13341996  12.6884094  -10.96830111  -1.1986661\n",
      "    1.90844104]\n",
      " [ -5.25667809 -12.9187198   25.43514141  -7.23156841   3.647838\n",
      "   12.3665496   -6.51207592   8.75090211  -0.76875452  -3.26109447\n",
      "   13.72947446]\n",
      " [ 12.95317634 -10.35033255  19.85785757 -24.42460793   3.26610539\n",
      "   30.44529438 -11.12584192  12.8156288    9.3513545   -6.11362363\n",
      "   17.62737508]\n",
      " [  3.76381878  -5.72818695  11.40016869 -17.55529729  -6.24657629\n",
      "   16.1559693   -9.72475754  16.99661562  -5.16865431   0.1879945\n",
      "   11.40123384]]\n"
     ]
    }
   ],
   "source": [
    "print(\"The first 5 elements of X_val are\\n\", X_val[:5])  "
   ]
  },
  {
   "cell_type": "code",
   "execution_count": 30,
   "id": "c65b15cd",
   "metadata": {},
   "outputs": [
    {
     "name": "stdout",
     "output_type": "stream",
     "text": [
      "The first 5 elements of y_val are\n",
      " [1 0 0 1 0]\n"
     ]
    }
   ],
   "source": [
    "print(\"The first 5 elements of y_val are\\n\", y_val[:5]) "
   ]
  },
  {
   "cell_type": "markdown",
   "id": "1939b7b0",
   "metadata": {},
   "source": [
    "#### Check the dimensions of your variables"
   ]
  },
  {
   "cell_type": "code",
   "execution_count": 31,
   "id": "deb388b6",
   "metadata": {},
   "outputs": [
    {
     "name": "stdout",
     "output_type": "stream",
     "text": [
      "The shape of X_train is: (1000, 11)\n",
      "The shape of X_val is: (100, 11)\n",
      "The shape of y_val is:  (100,)\n"
     ]
    }
   ],
   "source": [
    "print ('The shape of X_train is:', X_train.shape)\n",
    "print ('The shape of X_val is:', X_val.shape)\n",
    "print ('The shape of y_val is: ', y_val.shape)"
   ]
  },
  {
   "cell_type": "markdown",
   "id": "60544225",
   "metadata": {},
   "source": [
    "#### Visualize your data"
   ]
  },
  {
   "cell_type": "code",
   "execution_count": 32,
   "id": "d505cdd7",
   "metadata": {},
   "outputs": [
    {
     "data": {
      "image/png": "[encoded data removed]",
      "text/plain": [
       "<Figure size 640x480 with 1 Axes>"
      ]
     },
     "metadata": {},
     "output_type": "display_data"
    }
   ],
   "source": [
    "plt.scatter(X_train[:, 0], X_train[:, 1], marker='x', c='b') \n",
    "\n",
    "# Set the title\n",
    "plt.title(\"The first dataset\")\n",
    "# Set the y-axis label\n",
    "plt.ylabel('Throughput (mb/s)')\n",
    "# Set the x-axis label\n",
    "plt.xlabel('Latency (ms)')\n",
    "# Set axis range\n",
    "plt.axis([0, 30, 0, 30])\n",
    "plt.show()"
   ]
  },
  {
   "cell_type": "markdown",
   "id": "11b5f7bd",
   "metadata": {},
   "source": [
    "### <a name=\"2.3\"></a>\n",
    "### 2.3 Gaussian distribution\n",
    "\n",
    "### 2.3.1 Estimating parameters for a Gaussian distribution"
   ]
  },
  {
   "cell_type": "code",
   "execution_count": 33,
   "id": "d9197317",
   "metadata": {},
   "outputs": [],
   "source": [
    "\n",
    "def estimate_gaussian(X): \n",
    "    \n",
    "    m, n = X.shape\n",
    "   \n",
    "    mu = 1 / m * np.sum(X, axis = 0)\n",
    "    var = 1 / m * np.sum((X - mu) ** 2, axis = 0)\n",
    "   \n",
    "    return mu, var"
   ]
  },
  {
   "cell_type": "code",
   "execution_count": 34,
   "id": "be475e9b",
   "metadata": {},
   "outputs": [
    {
     "name": "stdout",
     "output_type": "stream",
     "text": [
      "Mean of each feature: [  4.93940034  -9.63726819  13.81470749 -10.4644888   -7.95622922\n",
      "  10.19950372  -6.01940755   7.96982896  -6.2531819    2.32451289\n",
      "   8.47372252]\n",
      "Variance of each feature: [60.97489373 53.20572186 58.51546272 84.20403725 65.26859177 89.57487757\n",
      " 55.63349911 87.16233783 29.62926829 70.7852052  50.50356719]\n"
     ]
    }
   ],
   "source": [
    "mu, var = estimate_gaussian(X_train)              \n",
    "\n",
    "print(\"Mean of each feature:\", mu)\n",
    "print(\"Variance of each feature:\", var)\n",
    "    "
   ]
  },
  {
   "cell_type": "markdown",
   "id": "8cc8f9ec",
   "metadata": {},
   "source": [
    "### 2.3.2 Selecting the threshold $\\epsilon$"
   ]
  },
  {
   "cell_type": "markdown",
   "id": "b313aeb5",
   "metadata": {},
   "source": [
    "#### Evaluate the probabilites for the training set"
   ]
  },
  {
   "cell_type": "code",
   "execution_count": 35,
   "id": "06955311",
   "metadata": {},
   "outputs": [],
   "source": [
    "def multivariate_gaussian(X, mu, var):\n",
    "    \n",
    "    k = len(mu)\n",
    "    \n",
    "    if var.ndim == 1:\n",
    "        var = np.diag(var)\n",
    "        \n",
    "    X = X - mu\n",
    "    p = (2* np.pi)**(-k/2) * np.linalg.det(var)**(-0.5) * \\\n",
    "        np.exp(-0.5 * np.sum(np.matmul(X, np.linalg.pinv(var)) * X, axis=1))\n",
    "    \n",
    "    return p"
   ]
  },
  {
   "cell_type": "code",
   "execution_count": 36,
   "id": "aca89d4a",
   "metadata": {},
   "outputs": [],
   "source": [
    "\n",
    "def select_threshold(y_val, p_val): \n",
    "   \n",
    "\n",
    "    best_epsilon = 0\n",
    "    best_F1 = 0\n",
    "    F1 = 0\n",
    "    \n",
    "    step_size = (max(p_val) - min(p_val)) / 1000\n",
    "    \n",
    "    for epsilon in np.arange(min(p_val), max(p_val), step_size):\n",
    "    \n",
    "        predictions = (p_val < epsilon)\n",
    "        tp = np.sum((predictions == 1) & (y_val == 1))\n",
    "        fn = np.sum((predictions == 0) & (y_val == 1))\n",
    "        fp = sum((predictions == 1) & (y_val == 0))\n",
    "        prec = tp / (tp + fp)\n",
    "        rec = tp / (tp + fn)\n",
    "        F1 = 2 * prec * rec / (prec + rec)\n",
    "        \n",
    "        if F1 > best_F1:\n",
    "            best_F1 = F1\n",
    "            best_epsilon = epsilon\n",
    "        \n",
    "    return best_epsilon, best_F1"
   ]
  },
  {
   "cell_type": "code",
   "execution_count": 37,
   "id": "e333f942",
   "metadata": {},
   "outputs": [
    {
     "name": "stderr",
     "output_type": "stream",
     "text": [
      "E:\\FLASK_TITUTORIAL\\flaskenv\\lib\\site-packages\\ipykernel_launcher.py:16: RuntimeWarning: invalid value encountered in long_scalars\n",
      "  \n"
     ]
    },
    {
     "name": "stdout",
     "output_type": "stream",
     "text": [
      "Best epsilon found using cross-validation: 1.377229e-18\n",
      "Best F1 on Cross Validation Set:  0.615385\n",
      "# Anomalies found: 117\n"
     ]
    }
   ],
   "source": [
    "# Estimate the Gaussian parameters\n",
    "mu, var = estimate_gaussian(X_train)\n",
    "\n",
    "# Evaluate the probabilites for the training set\n",
    "p = multivariate_gaussian(X_train, mu, var)\n",
    "\n",
    "# Evaluate the probabilites for the cross validation set\n",
    "p_val = multivariate_gaussian(X_val, mu, var)\n",
    "\n",
    "# Find the best threshold\n",
    "epsilon, F1 = select_threshold(y_val, p_val)\n",
    "\n",
    "print('Best epsilon found using cross-validation: %e'% epsilon)\n",
    "print('Best F1 on Cross Validation Set:  %f'% F1)\n",
    "print('# Anomalies found: %d'% sum(p < epsilon))"
   ]
  },
  {
   "cell_type": "code",
   "execution_count": null,
   "id": "c557aa8f",
   "metadata": {},
   "outputs": [],
   "source": []
  },
  {
   "cell_type": "code",
   "execution_count": null,
   "id": "1aab22da",
   "metadata": {},
   "outputs": [],
   "source": []
  }
 ],
 "metadata": {
  "kernelspec": {
   "display_name": "Python 3 (ipykernel)",
   "language": "python",
   "name": "python3"
  },
  "language_info": {
   "codemirror_mode": {
    "name": "ipython",
    "version": 3
   },
   "file_extension": ".py",
   "mimetype": "text/x-python",
   "name": "python",
   "nbconvert_exporter": "python",
   "pygments_lexer": "ipython3",
   "version": "3.7.0"
  }
 },
 "nbformat": 4,
 "nbformat_minor": 5
}
